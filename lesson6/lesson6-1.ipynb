{
 "cells": [
  {
   "cell_type": "code",
   "execution_count": 6,
   "metadata": {},
   "outputs": [
    {
     "name": "stdout",
     "output_type": "stream",
     "text": [
      "請輸入Yes或No:no\n"
     ]
    }
   ],
   "source": [
    "import pyinputplus as pyip\n",
    "\n",
    "is_yes = pyip.inputYesNo(\"請輸入Yes或No:\")\n",
    "print(is_yes)"
   ]
  },
  {
   "cell_type": "code",
   "execution_count": 10,
   "metadata": {},
   "outputs": [
    {
     "name": "stdout",
     "output_type": "stream",
     "text": [
      "請輸入以下三個選項(早上,中午,下午):早上好\n"
     ]
    }
   ],
   "source": [
    "state = pyip.inputChoice([\"早上\",\"中午\",\"下午\"],\"請輸入以下三個選項(早上,中午,下午):\")\n",
    "print(f\"{state}好\")"
   ]
  },
  {
   "cell_type": "code",
   "execution_count": 15,
   "metadata": {},
   "outputs": [
    {
     "name": "stdout",
     "output_type": "stream",
     "text": [
      "請輸入以下三個選項:\n",
      "1. 早上\n",
      "2. 中午\n",
      "3. 下午\n",
      "早上好\n"
     ]
    }
   ],
   "source": [
    "state = pyip.inputMenu([\"早上\",\"中午\",\"下午\"],prompt = \"請輸入以下三個選項:\\n\",\n",
    "                     numbered = True,\n",
    "                     blank = True)\n",
    "print(f\"{state}好\")"
   ]
  },
  {
   "cell_type": "code",
   "execution_count": 1,
   "metadata": {},
   "outputs": [
    {
     "name": "stdout",
     "output_type": "stream",
     "text": [
      "輸入格式有錯誤\n"
     ]
    },
    {
     "ename": "NameError",
     "evalue": "name 'height' is not defined",
     "output_type": "error",
     "traceback": [
      "\u001b[0;31m---------------------------------------------------------------------------\u001b[0m",
      "\u001b[0;31mNameError\u001b[0m                                 Traceback (most recent call last)",
      "Cell \u001b[0;32mIn[1], line 25\u001b[0m\n\u001b[1;32m     21\u001b[0m \u001b[38;5;28;01mexcept\u001b[39;00m:\n\u001b[1;32m     22\u001b[0m     \u001b[38;5;28mprint\u001b[39m(\u001b[38;5;124m'\u001b[39m\u001b[38;5;124m輸入格式有錯誤\u001b[39m\u001b[38;5;124m'\u001b[39m)\n\u001b[0;32m---> 25\u001b[0m \u001b[38;5;28;01mif\u001b[39;00m \u001b[43mheight\u001b[49m \u001b[38;5;241m>\u001b[39m\u001b[38;5;241m=\u001b[39m \u001b[38;5;241m120\u001b[39m \u001b[38;5;129;01mand\u001b[39;00m height \u001b[38;5;241m<\u001b[39m\u001b[38;5;241m=\u001b[39m\u001b[38;5;241m250\u001b[39m:\n\u001b[1;32m     26\u001b[0m     \u001b[38;5;28;01mif\u001b[39;00m weight \u001b[38;5;241m>\u001b[39m\u001b[38;5;241m=\u001b[39m \u001b[38;5;241m30\u001b[39m \u001b[38;5;129;01mand\u001b[39;00m weight \u001b[38;5;241m<\u001b[39m\u001b[38;5;241m=\u001b[39m\u001b[38;5;241m250\u001b[39m:\n\u001b[1;32m     27\u001b[0m         bmi \u001b[38;5;241m=\u001b[39m weight\u001b[38;5;241m/\u001b[39m(height\u001b[38;5;241m/\u001b[39m\u001b[38;5;241m100\u001b[39m)\u001b[38;5;241m*\u001b[39m\u001b[38;5;241m*\u001b[39m\u001b[38;5;241m2\u001b[39m\n",
      "\u001b[0;31mNameError\u001b[0m: name 'height' is not defined"
     ]
    }
   ],
   "source": [
    "try:\n",
    "    height = int(input('請輸入身高(120-250公分):'))\n",
    "    \n",
    "    if height >= 120:    \n",
    "        if height <= 250:\n",
    "            print(f'身高:{height:.0f}公分')\n",
    "            weight = int(input('請輸入體重(30-250公斤):'))\n",
    "\n",
    "            if weight >= 30:\n",
    "                if weight<=250:\n",
    "                    print(f'體重:{weight:.0f}公斤')\n",
    "                else:\n",
    "                    print('體重大於250公斤,不在範圍內')\n",
    "            else:\n",
    "                print('體重小於30公斤,不在範圍內')\n",
    "        else:\n",
    "            print('身高大於250公分,不在範圍內')\n",
    "    else:\n",
    "        print('身高小於120公分,不在範圍內')  \n",
    "\n",
    "except:\n",
    "    print('輸入格式有錯誤')\n",
    "\n",
    "\n",
    "if height >= 120 and height <=250:\n",
    "    if weight >= 30 and weight <=250:\n",
    "        bmi = weight/(height/100)**2\n",
    "        print(f'您的BMI是:{bmi:.2f}')\n",
    "        if bmi<18.5:\n",
    "            print('您的體重:體重過輕')\n",
    "        elif bmi<24:\n",
    "            print('您的體重:正常')\n",
    "        elif bmi<27:\n",
    "            print('您的體重:過重')\n",
    "        elif bmi<30:\n",
    "            print('您的體重:輕度肥胖')\n",
    "        elif bmi<35:\n",
    "            print('您的體重:中度肥胖')\n",
    "        else:\n",
    "            print('您的體重:重度肥胖')\n",
    "    else:\n",
    "        print(\"請重新輸入範圍內的體重\")\n",
    "    \n",
    "else:   \n",
    "    print(\"請重新輸入範圍內的身高\")"
   ]
  }
 ],
 "metadata": {
  "kernelspec": {
   "display_name": "Python 3",
   "language": "python",
   "name": "python3"
  },
  "language_info": {
   "codemirror_mode": {
    "name": "ipython",
    "version": 3
   },
   "file_extension": ".py",
   "mimetype": "text/x-python",
   "name": "python",
   "nbconvert_exporter": "python",
   "pygments_lexer": "ipython3",
   "version": "3.10.13"
  }
 },
 "nbformat": 4,
 "nbformat_minor": 2
}
