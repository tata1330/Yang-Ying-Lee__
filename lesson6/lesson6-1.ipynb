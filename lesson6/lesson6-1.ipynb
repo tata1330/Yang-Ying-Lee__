{
 "cells": [
  {
   "cell_type": "code",
   "execution_count": 6,
   "metadata": {},
   "outputs": [
    {
     "name": "stdout",
     "output_type": "stream",
     "text": [
      "請輸入Yes或No:no\n"
     ]
    }
   ],
   "source": [
    "import pyinputplus as pyip\n",
    "\n",
    "is_yes = pyip.inputYesNo(\"請輸入Yes或No:\")\n",
    "print(is_yes)"
   ]
  },
  {
   "cell_type": "code",
   "execution_count": 10,
   "metadata": {},
   "outputs": [
    {
     "name": "stdout",
     "output_type": "stream",
     "text": [
      "請輸入以下三個選項(早上,中午,下午):早上好\n"
     ]
    }
   ],
   "source": [
    "state = pyip.inputChoice([\"早上\",\"中午\",\"下午\"],\"請輸入以下三個選項(早上,中午,下午):\")\n",
    "print(f\"{state}好\")"
   ]
  },
  {
   "cell_type": "code",
   "execution_count": 15,
   "metadata": {},
   "outputs": [
    {
     "name": "stdout",
     "output_type": "stream",
     "text": [
      "請輸入以下三個選項:\n",
      "1. 早上\n",
      "2. 中午\n",
      "3. 下午\n",
      "早上好\n"
     ]
    }
   ],
   "source": [
    "state = pyip.inputMenu([\"早上\",\"中午\",\"下午\"],prompt = \"請輸入以下三個選項:\\n\",\n",
    "                     numbered = True,\n",
    "                     blank = True)\n",
    "print(f\"{state}好\")"
   ]
  }
 ],
 "metadata": {
  "kernelspec": {
   "display_name": "Python 3",
   "language": "python",
   "name": "python3"
  },
  "language_info": {
   "codemirror_mode": {
    "name": "ipython",
    "version": 3
   },
   "file_extension": ".py",
   "mimetype": "text/x-python",
   "name": "python",
   "nbconvert_exporter": "python",
   "pygments_lexer": "ipython3",
   "version": "3.10.13"
  }
 },
 "nbformat": 4,
 "nbformat_minor": 2
}
