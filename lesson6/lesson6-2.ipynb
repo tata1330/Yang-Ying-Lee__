{
 "cells": [
  {
   "cell_type": "code",
   "execution_count": null,
   "metadata": {},
   "outputs": [],
   "source": [
    "try:\n",
    "    scores:float = eval(input(\"請輸入學生分數(最高100):\"))\n",
    "\n",
    "    if scores <= 300 :\n",
    "        is_add:str = input(\"學生是否符合加分條件?(y/n):\")\n",
    "        if is_add == \"y\" :\n",
    "            scores *= 1.05  \n",
    "            if scores > 300 :\n",
    "                scores = 300\n",
    "        print(f\"學生總分為{scores:.0f}\")\n",
    "    else:\n",
    "        print(\"學生分數不可以大於300\")\n",
    "except:\n",
    "    print(\"輸入格式錯誤\")\n",
    "        \n",
    "\n",
    "\n",
    "print(\"程式結束\")\n"
   ]
  },
  {
   "cell_type": "code",
   "execution_count": 5,
   "metadata": {},
   "outputs": [
    {
     "name": "stdout",
     "output_type": "stream",
     "text": [
      "請輸入學生分數(最高300):200\n",
      "學生是否符合加分條件?(選擇1或2):\n",
      "1. 是\n",
      "2. 否\n",
      "是\n",
      "學生分數為300\n",
      "程式結束\n"
     ]
    }
   ],
   "source": [
    "import pyinputplus as pyip\n",
    "score = pyip.inputInt(\"請輸入學生分數(最高300):\")\n",
    "print(score)\n",
    "is_add = pyip.inputMenu([\"是\",\"否\"],\"學生是否符合加分條件?(選擇1或2):\\n\",\n",
    "                        numbered= True)\n",
    "print(is_add)\n",
    "if is_add == \"是\":\n",
    "    scores *= 1.05\n",
    "    if scores > 300:\n",
    "        scores = 300\n",
    "print(f\"學生分數為{scores:.0f}\")\n",
    "print(\"程式結束\")\n"
   ]
  },
  {
   "cell_type": "code",
   "execution_count": 7,
   "metadata": {},
   "outputs": [
    {
     "name": "stdout",
     "output_type": "stream",
     "text": [
      "身高:120\n",
      "在120-250之間\n",
      "體重:250\n",
      "在30-250之間\n",
      "您的BMI是173.61\n",
      "您的體重:重度肥胖\n"
     ]
    }
   ],
   "source": [
    "try:\n",
    "    height = int(input(\"請輸入身高(公分,120-250):\"))\n",
    "    print(f\"身高:{height}\")\n",
    "except:\n",
    "    print(\"輸入格式有誤\")\n",
    "\n",
    "if height >= 120:\n",
    "    if height <= 250:\n",
    "        print(\"在120-250之間\")\n",
    "    else:\n",
    "        print(\"大於250,不在放圍內\")\n",
    "else:\n",
    "    print(\"小於120,不在範圍內\")\n",
    "\n",
    "weight = int(input(\"請輸入體重(公斤,30-250):\"))\n",
    "print(f\"體重:{weight}\")\n",
    "\n",
    "\n",
    "if weight >= 30:\n",
    "    if weight <= 250:\n",
    "        print(\"在30-250之間\")\n",
    "    else:\n",
    "        print(\"大於250,不在放圍內\")\n",
    "else:\n",
    "    print(\"小於30,不在範圍內\")\n",
    "\n",
    "bmi = weight / (height / 100) ** 2\n",
    "print(f\"您的BMI是{bmi:.2f}\")\n",
    "\n",
    "if bmi < 18.5:\n",
    "    print(\"您的體重:過輕\")\n",
    "elif bmi < 24:\n",
    "    print(\"您的體重:正常\")\n",
    "elif bmi < 27:\n",
    "    print(\"您的體重:過重\")\n",
    "elif bmi < 30:\n",
    "    print(\"您的體重:輕度肥胖\")\n",
    "elif bmi < 35:\n",
    "    print(\"您的體重:中度肥胖\")\n",
    "elif bmi >= 35:\n",
    "    print(\"您的體重:重度肥胖\")\n",
    "        \n",
    "    "
   ]
  },
  {
   "cell_type": "code",
   "execution_count": 11,
   "metadata": {},
   "outputs": [
    {
     "name": "stdout",
     "output_type": "stream",
     "text": [
      "請輸入身高(公分,120-250):200\n",
      "在120-250之間\n"
     ]
    }
   ],
   "source": [
    "import pyinputplus as pyip\n",
    "\n",
    "height = pyip.inputInt(\"請輸入身高(公分,120-250):\")\n",
    "print(height)\n",
    "if height >= 120 and height <= 250:\n",
    "    print(\"在120-250之間\")\n",
    "else:\n",
    "    print(\"不在放圍內\")"
   ]
  }
 ],
 "metadata": {
  "kernelspec": {
   "display_name": "Python 3",
   "language": "python",
   "name": "python3"
  },
  "language_info": {
   "codemirror_mode": {
    "name": "ipython",
    "version": 3
   },
   "file_extension": ".py",
   "mimetype": "text/x-python",
   "name": "python",
   "nbconvert_exporter": "python",
   "pygments_lexer": "ipython3",
   "version": "3.10.13"
  }
 },
 "nbformat": 4,
 "nbformat_minor": 2
}
