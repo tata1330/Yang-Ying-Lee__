{
 "cells": [
  {
   "cell_type": "code",
   "execution_count": null,
   "metadata": {},
   "outputs": [],
   "source": [
    "try:\n",
    "    scores:float = eval(input(\"請輸入學生分數(最高100):\"))\n",
    "\n",
    "    if scores <= 300 :\n",
    "        is_add:str = input(\"學生是否符合加分條件?(y/n):\")\n",
    "        if is_add == \"y\" :\n",
    "            scores *= 1.05  \n",
    "            if scores > 300 :\n",
    "                scores = 300\n",
    "        print(f\"學生總分為{scores:.0f}\")\n",
    "    else:\n",
    "        print(\"學生分數不可以大於300\")\n",
    "except:\n",
    "    print(\"輸入格式錯誤\")\n",
    "        \n",
    "\n",
    "\n",
    "print(\"程式結束\")\n"
   ]
  },
  {
   "cell_type": "code",
   "execution_count": 8,
   "metadata": {},
   "outputs": [
    {
     "name": "stdout",
     "output_type": "stream",
     "text": [
      "身高:250公分\n",
      "體重大於250公斤,不在範圍內\n",
      "請重新輸入範圍內的體重\n"
     ]
    }
   ],
   "source": [
    "try:\n",
    "    height = int(input('請輸入身高(120-250公分):'))\n",
    "    \n",
    "    if height >= 120:    \n",
    "        if height <= 250:\n",
    "            print(f'身高:{height:.0f}公分')\n",
    "            weight = int(input('請輸入體重(30-250公斤):'))\n",
    "\n",
    "            if weight >= 30:\n",
    "                if weight<=250:\n",
    "                    print(f'體重:{weight:.0f}公斤')\n",
    "                else:\n",
    "                    print('體重大於250公斤,不在範圍內')\n",
    "            else:\n",
    "                print('體重小於30公斤,不在範圍內')\n",
    "        else:\n",
    "            print('身高大於250公分,不在範圍內')\n",
    "    else:\n",
    "        print('身高小於120公分,不在範圍內')  \n",
    "\n",
    "\n",
    "\n",
    "\n",
    "    if height >= 120 and height <=250:\n",
    "        if weight >= 30 and weight <=250:\n",
    "            bmi = weight/(height/100)**2\n",
    "            print(f'您的BMI是:{bmi:.2f}')\n",
    "            if bmi<18.5:\n",
    "                print('您的體重:體重過輕')\n",
    "            elif bmi<24:\n",
    "                print('您的體重:正常')\n",
    "            elif bmi<27:\n",
    "                print('您的體重:過重')\n",
    "            elif bmi<30:\n",
    "                print('您的體重:輕度肥胖')\n",
    "            elif bmi<35:\n",
    "                print('您的體重:中度肥胖')\n",
    "            else:\n",
    "                print('您的體重:重度肥胖')\n",
    "        else:\n",
    "            print(\"請重新輸入範圍內的體重\")\n",
    "        \n",
    "    else:   \n",
    "        print(\"請重新輸入範圍內的身高\")\n",
    "except:\n",
    "    print('輸入格式有錯誤')"
   ]
  },
  {
   "cell_type": "code",
   "execution_count": 6,
   "metadata": {},
   "outputs": [
    {
     "name": "stdout",
     "output_type": "stream",
     "text": [
      "請輸入身高(公分,120-250):Number must be at maximum 250.\n",
      "請輸入身高(公分,120-250):Number must be at maximum 250.\n",
      "請輸入身高(公分,120-250):250公分\n",
      "請輸入體重(公斤,30-250):Number must be at maximum 250.\n",
      "請輸入體重(公斤,30-250):Number must be at maximum 250.\n",
      "請輸入體重(公斤,30-250):Number must be at minimum 30.\n",
      "請輸入體重(公斤,30-250):150公斤\n",
      "您的BMI是:24.00\n",
      "您的體重:過重\n"
     ]
    }
   ],
   "source": [
    "import pyinputplus as pyip\n",
    "\n",
    "height = pyip.inputInt(\"請輸入身高(公分,120-250):\",max=250,min=120)\n",
    "print(f\"{height:.0f}公分\")\n",
    "\n",
    "weight = pyip.inputInt(\"請輸入體重(公斤,30-250):\",max=250,min=30)\n",
    "print(f\"{weight:.0f}公斤\")\n",
    "\n",
    "bmi = weight/(height/100)**2\n",
    "print(f'您的BMI是:{bmi:.2f}')\n",
    "if bmi<18.5:\n",
    "    print('您的體重:體重過輕')\n",
    "elif bmi<24:\n",
    "    print('您的體重:正常')\n",
    "elif bmi<27:\n",
    "    print('您的體重:過重')\n",
    "elif bmi<30:\n",
    "    print('您的體重:輕度肥胖')\n",
    "elif bmi<35:\n",
    "    print('您的體重:中度肥胖')\n",
    "else:\n",
    "    print('您的體重:重度肥胖')\n"
   ]
  },
  {
   "cell_type": "code",
   "execution_count": null,
   "metadata": {},
   "outputs": [],
   "source": [
    "# 導入pyip\n",
    "import pyinputplus as pyip\n",
    "\n",
    "try:\n",
    "    # 讓使用者輸入身高和體重\n",
    "    weight = pyip.inputNum(\"請輸入您的體重（公斤）\\n\", min=25, max=150)\n",
    "    height = pyip.inputNum(\"請輸入您的身高（公尺）\", min=0.5, max=2.5)\n",
    "\n",
    "    # 計算BMI\n",
    "    bmi = round(weight / (height ** 2),1)\n",
    "\n",
    "    # 判斷BMI屬於哪個範圍\n",
    "    if bmi < 18.5:\n",
    "        category = \"體重過輕\"\n",
    "    elif 18.5 <= bmi < 24:\n",
    "        category = \"正常範圍\"\n",
    "    elif 24 <= bmi < 27:\n",
    "        category = \"過重\"\n",
    "    elif 27 <= bmi < 30:\n",
    "        category = \"輕度肥胖\"\n",
    "    elif 30 <= bmi < 35:\n",
    "        category = \"中度肥胖\"\n",
    "    else:\n",
    "        category = \"重度肥胖\"\n",
    "\n",
    "    # 輸出結果\n",
    "    print(\"\\n您的體重（公斤）為：\",weight)\n",
    "    print(\"您的身高（公尺）為：\",height)\n",
    "    print(\"\\n您的BMI為：\",bmi)\n",
    "    print(\"您的BMI範圍屬於：\",category)\n",
    "\n",
    "except:\n",
    "    print(\"格式有誤，請再試著輸入一次\")"
   ]
  }
 ],
 "metadata": {
  "kernelspec": {
   "display_name": "Python 3",
   "language": "python",
   "name": "python3"
  },
  "language_info": {
   "codemirror_mode": {
    "name": "ipython",
    "version": 3
   },
   "file_extension": ".py",
   "mimetype": "text/x-python",
   "name": "python",
   "nbconvert_exporter": "python",
   "pygments_lexer": "ipython3",
   "version": "3.10.13"
  }
 },
 "nbformat": 4,
 "nbformat_minor": 2
}
