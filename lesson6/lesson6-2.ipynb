{
 "cells": [
  {
   "cell_type": "code",
   "execution_count": null,
   "metadata": {},
   "outputs": [],
   "source": [
    "try:\n",
    "    scores:float = eval(input(\"請輸入學生分數(最高100):\"))\n",
    "\n",
    "    if scores <= 300 :\n",
    "        is_add:str = input(\"學生是否符合加分條件?(y/n):\")\n",
    "        if is_add == \"y\" :\n",
    "            scores *= 1.05  \n",
    "            if scores > 300 :\n",
    "                scores = 300\n",
    "        print(f\"學生總分為{scores:.0f}\")\n",
    "    else:\n",
    "        print(\"學生分數不可以大於300\")\n",
    "except:\n",
    "    print(\"輸入格式錯誤\")\n",
    "        \n",
    "\n",
    "\n",
    "print(\"程式結束\")\n"
   ]
  }
 ],
 "metadata": {
  "language_info": {
   "name": "python"
  }
 },
 "nbformat": 4,
 "nbformat_minor": 2
}
