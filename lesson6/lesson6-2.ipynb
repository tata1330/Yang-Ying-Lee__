{
 "cells": [
  {
   "cell_type": "code",
   "execution_count": null,
   "metadata": {},
   "outputs": [],
   "source": [
    "try:\n",
    "    scores:float = eval(input(\"請輸入學生分數(最高100):\"))\n",
    "\n",
    "    if scores <= 300 :\n",
    "        is_add:str = input(\"學生是否符合加分條件?(y/n):\")\n",
    "        if is_add == \"y\" :\n",
    "            scores *= 1.05  \n",
    "            if scores > 300 :\n",
    "                scores = 300\n",
    "        print(f\"學生總分為{scores:.0f}\")\n",
    "    else:\n",
    "        print(\"學生分數不可以大於300\")\n",
    "except:\n",
    "    print(\"輸入格式錯誤\")\n",
    "        \n",
    "\n",
    "\n",
    "print(\"程式結束\")\n"
   ]
  },
  {
   "cell_type": "code",
   "execution_count": 5,
   "metadata": {},
   "outputs": [
    {
     "name": "stdout",
     "output_type": "stream",
     "text": [
      "請輸入學生分數(最高300):200\n",
      "學生是否符合加分條件?(選擇1或2):\n",
      "1. 是\n",
      "2. 否\n",
      "是\n",
      "學生分數為300\n",
      "程式結束\n"
     ]
    }
   ],
   "source": [
    "import pyinputplus as pyip\n",
    "score = pyip.inputInt(\"請輸入學生分數(最高300):\")\n",
    "print(score)\n",
    "is_add = pyip.inputMenu([\"是\",\"否\"],\"學生是否符合加分條件?(選擇1或2):\\n\",\n",
    "                        numbered= True)\n",
    "print(is_add)\n",
    "if is_add == \"是\":\n",
    "    scores *= 1.05\n",
    "    if scores > 300:\n",
    "        scores = 300\n",
    "print(f\"學生分數為{scores:.0f}\")\n",
    "print(\"程式結束\")\n"
   ]
  },
  {
   "cell_type": "code",
   "execution_count": null,
   "metadata": {},
   "outputs": [],
   "source": []
  }
 ],
 "metadata": {
  "language_info": {
   "name": "python"
  }
 },
 "nbformat": 4,
 "nbformat_minor": 2
}
