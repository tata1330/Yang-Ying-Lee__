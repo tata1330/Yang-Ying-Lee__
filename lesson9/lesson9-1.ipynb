{
 "cells": [
  {
   "cell_type": "code",
   "execution_count": 6,
   "metadata": {},
   "outputs": [
    {
     "name": "stdout",
     "output_type": "stream",
     "text": [
      "身高:120公分\n",
      "體重:120公斤\n",
      "您的BMI是:83.33\n",
      "您的體重:重度肥胖\n",
      "你還要繼續嗎?\n",
      "1. yes\n",
      "2. no\n",
      "======程式結束======\n"
     ]
    }
   ],
   "source": [
    "import pyinputplus as pyip\n",
    "    \n",
    "def getSuggestion(bmi:float) -> str:\n",
    "    if bmi<18.5:\n",
    "        message = ('您的體重:體重過輕')\n",
    "    elif bmi<24:\n",
    "        message = ('您的體重:正常')\n",
    "    elif bmi<27:\n",
    "        message = ('您的體重:過重')\n",
    "    elif bmi<30:\n",
    "        message = ('您的體重:輕度肥胖')\n",
    "    elif bmi<35:\n",
    "        message = ('您的體重:中度肥胖')\n",
    "    else:\n",
    "        message = ('您的體重:重度肥胖')\n",
    "    return message\n",
    "    \n",
    "\n",
    "def main():\n",
    "    while(True): \n",
    "        try:\n",
    "            height = int(input('請輸入身高(120-250公分):'))\n",
    "            \n",
    "            if height >= 120:    \n",
    "                if height <= 250:\n",
    "                    print(f'身高:{height:.0f}公分')\n",
    "                    weight = int(input('請輸入體重(30-250公斤):'))\n",
    "\n",
    "                    if weight >= 30:\n",
    "                        if weight<=250:\n",
    "                            print(f'體重:{weight:.0f}公斤')\n",
    "                            bmi = weight/(height/100)**2\n",
    "                            print(f'您的BMI是:{bmi:.2f}')\n",
    "                            print(getSuggestion(bmi))\n",
    "                        else:\n",
    "                            print('體重大於250公斤,不在範圍內,請重新輸入範圍內的體重')\n",
    "                            continue\n",
    "                    else:\n",
    "                        print('體重小於30公斤,不在範圍內,請重新輸入範圍內的體重')\n",
    "                        continue\n",
    "                else:\n",
    "                    print('身高大於250公分,不在範圍內,請重新輸入範圍內的身高')\n",
    "                    continue\n",
    "            else:\n",
    "                print('身高小於120公分,不在範圍內,請重新輸入範圍內的身高')\n",
    "                continue\n",
    "        except:\n",
    "            print('輸入格式有錯誤,請重新輸入')\n",
    "            continue\n",
    "\n",
    "        menu_value = pyip.inputMenu([\"yes\",\"no\"], prompt = \"你還要繼續嗎?\\n\", numbered = True)\n",
    "        if menu_value == \"no\":\n",
    "            break\n",
    "    print(\"======程式結束======\")\n",
    "\n",
    "if __name__ == '__main__':\n",
    "    main()"
   ]
  },
  {
   "cell_type": "code",
   "execution_count": 25,
   "metadata": {},
   "outputs": [
    {
     "name": "stdout",
     "output_type": "stream",
     "text": [
      "0\n",
      "1\n",
      "2\n",
      "3\n",
      "編號0:0\n",
      "編號1:1\n",
      "編號2:2\n",
      "編號3:3\n",
      "a\n",
      "b\n",
      "c\n"
     ]
    },
    {
     "data": {
      "text/plain": [
       "('a', 'b', 'c')"
      ]
     },
     "execution_count": 25,
     "metadata": {},
     "output_type": "execute_result"
    }
   ],
   "source": [
    "t1 = (0,1,2,3)\n",
    "#tuple\n",
    "for i in t1:\n",
    "    print(i)\n",
    "\n",
    "print(f'編號0:{t1[0]}')\n",
    "print(f'編號1:{t1[1]}')\n",
    "print(f'編號2:{t1[2]}')\n",
    "print(f'編號3:{t1[3]}')\n",
    "\n",
    "v1,v2,v3 = 'a','b','c'\n",
    "print(v1)\n",
    "print(v2)\n",
    "print(v3)\n",
    "\n",
    "v1,v2,v3\n",
    "\n"
   ]
  },
  {
   "cell_type": "code",
   "execution_count": 13,
   "metadata": {},
   "outputs": [
    {
     "name": "stdout",
     "output_type": "stream",
     "text": [
      "7\n",
      "8\n",
      "9\n",
      "10\n",
      "編號0:7\n",
      "編號1:8\n",
      "編號2:9\n",
      "編號3:10\n"
     ]
    }
   ],
   "source": [
    "l1 = [7,8,9,10]\n",
    "#list\n",
    "for i in l1:\n",
    "    print(i)\n",
    "\n",
    "print(f'編號0:{l1[0]}')\n",
    "print(f'編號1:{l1[1]}')\n",
    "print(f'編號2:{l1[2]}')\n",
    "print(f'編號3:{l1[3]}')"
   ]
  }
 ],
 "metadata": {
  "kernelspec": {
   "display_name": "Python 3",
   "language": "python",
   "name": "python3"
  },
  "language_info": {
   "codemirror_mode": {
    "name": "ipython",
    "version": 3
   },
   "file_extension": ".py",
   "mimetype": "text/x-python",
   "name": "python",
   "nbconvert_exporter": "python",
   "pygments_lexer": "ipython3",
   "version": "3.10.13"
  }
 },
 "nbformat": 4,
 "nbformat_minor": 2
}
