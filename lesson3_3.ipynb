{
 "cells": [
  {
   "cell_type": "code",
   "execution_count": 4,
   "metadata": {},
   "outputs": [
    {
     "name": "stdout",
     "output_type": "stream",
     "text": [
      "你的體重是:61(公斤)\n",
      "你的身高是:158(公分)\n",
      "您的BMI:24.435186668803073\n"
     ]
    }
   ],
   "source": [
    "#BMI值計算公式:    BMI = 體重(公斤) / 身高2(公尺2)\n",
    "\n",
    "weight = eval(input(\"請輸入你的體重(公斤):\"))\n",
    "height = eval(input(\"請輸入你的身高(公分):\"))\n",
    "bmi = weight / (height / 100) ** 2\n",
    "print(\"你的體重是:\", weight,\"(公斤)\",sep='')\n",
    "print(\"你的身高是:\",height,\"(公分)\",sep='')\n",
    "print(\"您的BMI:\",bmi,sep='')\n"
   ]
  }
 ],
 "metadata": {
  "kernelspec": {
   "display_name": "Python 3",
   "language": "python",
   "name": "python3"
  },
  "language_info": {
   "codemirror_mode": {
    "name": "ipython",
    "version": 3
   },
   "file_extension": ".py",
   "mimetype": "text/x-python",
   "name": "python",
   "nbconvert_exporter": "python",
   "pygments_lexer": "ipython3",
   "version": "3.10.13"
  }
 },
 "nbformat": 4,
 "nbformat_minor": 2
}
