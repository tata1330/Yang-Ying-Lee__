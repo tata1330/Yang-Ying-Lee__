{
 "cells": [
  {
   "cell_type": "code",
   "execution_count": 2,
   "metadata": {},
   "outputs": [
    {
     "name": "stdout",
     "output_type": "stream",
     "text": [
      "========猜數字遊戲=========\n",
      "\n",
      "\n",
      "再大一點\n",
      "你已經猜了2次了\n",
      "再小一點\n",
      "你已經猜了4次了\n",
      "再小一點\n",
      "你已經猜了6次了\n",
      "再小一點\n",
      "你已經猜了8次了\n",
      "超出範圍\n",
      "你已經猜了10次了\n",
      "格式錯誤\n",
      "你已經猜了11次了\n",
      "再小一點\n",
      "你已經猜了13次了\n",
      "再小一點\n",
      "你已經猜了15次了\n",
      "再大一點\n",
      "你已經猜了17次了\n",
      "恭喜你猜對了，答案就是24\n",
      "你已經猜了18次了\n",
      "遊戲結束\n"
     ]
    }
   ],
   "source": [
    "import random\n",
    "\n",
    "min = 1\n",
    "max = 100\n",
    "guess = random.randint(min,max)\n",
    "count = 0\n",
    "\n",
    "print(\"========猜數字遊戲=========\\n\\n\")\n",
    "#print(f\"要猜的數字是{guess}\")\n",
    "\n",
    "while(True):\n",
    "    try:\n",
    "        keyin = int(input(f\"猜數字範圍{min}~{max}\"))\n",
    "        count += 1\n",
    "        if max >= keyin >=min:\n",
    "            if keyin == guess:\n",
    "                print(f\"恭喜你猜對了，答案就是{guess}\")\n",
    "                print(f\"你已經猜了{count}次了\")\n",
    "                break\n",
    "            elif keyin >= guess:\n",
    "                print(\"再小一點\")\n",
    "                max = keyin - 1\n",
    "            elif keyin <= guess:\n",
    "                print(\"再大一點\")\n",
    "                min = keyin + 1\n",
    "        else:\n",
    "            print(\"超出範圍\")\n",
    "    except:\n",
    "        print(\"格式錯誤\")\n",
    "        count += 1\n",
    "        \n",
    "    print(f\"你已經猜了{count}次了\")\n",
    "\n",
    "print(\"遊戲結束\")\n",
    "    "
   ]
  },
  {
   "cell_type": "code",
   "execution_count": 3,
   "metadata": {},
   "outputs": [
    {
     "name": "stdout",
     "output_type": "stream",
     "text": [
      "你還要繼續嗎\n",
      "1. yes\n",
      "2. no\n"
     ]
    },
    {
     "data": {
      "text/plain": [
       "'no'"
      ]
     },
     "execution_count": 3,
     "metadata": {},
     "output_type": "execute_result"
    }
   ],
   "source": [
    "import pyinputplus as pyip\n",
    "\n",
    "menu_value = pyip.inputMenu([\"yes\",\"no\"], prompt = \"你還要繼續嗎\\n\", numbered = True)\n",
    "menu_value"
   ]
  }
 ],
 "metadata": {
  "kernelspec": {
   "display_name": "Python 3",
   "language": "python",
   "name": "python3"
  },
  "language_info": {
   "codemirror_mode": {
    "name": "ipython",
    "version": 3
   },
   "file_extension": ".py",
   "mimetype": "text/x-python",
   "name": "python",
   "nbconvert_exporter": "python",
   "pygments_lexer": "ipython3",
   "version": "3.10.13"
  }
 },
 "nbformat": 4,
 "nbformat_minor": 2
}
