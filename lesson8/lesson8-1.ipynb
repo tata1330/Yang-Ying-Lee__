{
 "cells": [
  {
   "cell_type": "code",
   "execution_count": 2,
   "metadata": {},
   "outputs": [
    {
     "name": "stdout",
     "output_type": "stream",
     "text": [
      "========猜數字遊戲=========\n",
      "\n",
      "\n",
      "再大一點\n",
      "你已經猜了1次了\n",
      "再大一點\n",
      "你已經猜了2次了\n",
      "再大一點\n",
      "你已經猜了3次了\n",
      "再小一點\n",
      "你已經猜了4次了\n",
      "再小一點\n",
      "你已經猜了5次了\n",
      "恭喜你猜對了，答案就是83\n",
      "你已經猜了6次了\n",
      "你還要繼續嗎\n",
      "1. yes\n",
      "2. no\n",
      "========猜數字遊戲=========\n",
      "\n",
      "\n",
      "再小一點\n",
      "你已經猜了1次了\n",
      "再小一點\n",
      "你已經猜了2次了\n",
      "再小一點\n",
      "你已經猜了3次了\n",
      "再小一點\n",
      "你已經猜了4次了\n",
      "再小一點\n",
      "你已經猜了5次了\n",
      "再大一點\n",
      "你已經猜了6次了\n",
      "再大一點\n",
      "你已經猜了7次了\n",
      "恭喜你猜對了，答案就是19\n",
      "你已經猜了8次了\n",
      "你還要繼續嗎\n",
      "1. yes\n",
      "2. no\n",
      "遊戲結束\n"
     ]
    }
   ],
   "source": [
    "import random\n",
    "import pyinputplus as pyip\n",
    "\n",
    "while(True): \n",
    "    min = 1\n",
    "    max = 100\n",
    "    guess = random.randint(min,max)\n",
    "    count = 0\n",
    "\n",
    "    print(\"========猜數字遊戲=========\\n\\n\")\n",
    "    print(f\"要猜的數字是{guess}\")\n",
    "\n",
    "    \n",
    "    while(True):\n",
    "        try:\n",
    "            keyin = int(input(f\"猜數字範圍{min}~{max}\"))\n",
    "            count += 1\n",
    "            if max >= keyin >=min:\n",
    "                if keyin == guess:\n",
    "                    print(f\"恭喜你猜對了，答案就是{guess}\")\n",
    "                    print(f\"你已經猜了{count}次了\")\n",
    "                    break\n",
    "                elif keyin >= guess:\n",
    "                    print(\"再小一點\")\n",
    "                    max = keyin - 1\n",
    "                elif keyin <= guess:\n",
    "                    print(\"再大一點\")\n",
    "                    min = keyin + 1\n",
    "            else:\n",
    "                print(\"超出範圍\")\n",
    "        except:\n",
    "            print(\"格式錯誤\")\n",
    "            count += 1\n",
    "\n",
    "        print(f\"你已經猜了{count}次了\")\n",
    "    menu_value = pyip.inputMenu([\"yes\",\"no\"], prompt = \"你還要繼續嗎\\n\", numbered = True)\n",
    "    if menu_value == \"no\":\n",
    "        break\n",
    "print(\"遊戲結束\")\n",
    "    "
   ]
  },
  {
   "cell_type": "code",
   "execution_count": 3,
   "metadata": {},
   "outputs": [
    {
     "name": "stdout",
     "output_type": "stream",
     "text": [
      "你還要繼續嗎\n",
      "1. yes\n",
      "2. no\n"
     ]
    },
    {
     "data": {
      "text/plain": [
       "'no'"
      ]
     },
     "execution_count": 3,
     "metadata": {},
     "output_type": "execute_result"
    }
   ],
   "source": [
    "import pyinputplus as pyip\n",
    "\n",
    "menu_value = pyip.inputMenu([\"yes\",\"no\"], prompt = \"你還要繼續嗎\\n\", numbered = True)\n",
    "menu_value"
   ]
  },
  {
   "cell_type": "code",
   "execution_count": 34,
   "metadata": {},
   "outputs": [
    {
     "name": "stdout",
     "output_type": "stream",
     "text": [
      "請輸入整數，求所有因數：120\n",
      "120的因數有:\n",
      "1 2 3 4 5 6 8 10 12 15 20 24 30 40 60 120 "
     ]
    }
   ],
   "source": [
    "import pyinputplus as pyip\n",
    "\n",
    "number = pyip.inputInt(\"請輸入整數，求所有因數：\")\n",
    "divisor = 0\n",
    "\n",
    "print(f\"{number}\")\n",
    "print(f\"{number}的因數有:\")\n",
    "\n",
    "while divisor <= number:\n",
    "    divisor += 1\n",
    "    if number % divisor == 0:\n",
    "        print(f\"{divisor}\", end=\" \")\n",
    "    if number == divisor:\n",
    "        break"
   ]
  },
  {
   "cell_type": "code",
   "execution_count": 5,
   "metadata": {},
   "outputs": [
    {
     "name": "stdout",
     "output_type": "stream",
     "text": [
      "請輸入整數\n",
      "10正確，是整數，求所有因數\n",
      "10的因數有1\n",
      "10的因數有2\n",
      "10的因數有5\n",
      "10的因數有10\n"
     ]
    }
   ],
   "source": [
    "##homework\n",
    "##輸入整數，求所有因數\n",
    "##輸出其因數\n",
    "import pyinputplus as pyip\n",
    "number:int=pyip.inputInt('請輸入整數\\n')\n",
    "#確認是否為數值\n",
    "#確認是否為整數   \n",
    "print(f'{number}正確，是整數，求所有因數')\n",
    "divisor:int=0\n",
    "while divisor <= number:\n",
    "    divisor+=1\n",
    "    if (number%divisor==0):\n",
    "        print(f'{number}的因數有{divisor}')\n",
    "    if (number==divisor):\n",
    "        break"
   ]
  },
  {
   "cell_type": "code",
   "execution_count": 28,
   "metadata": {},
   "outputs": [
    {
     "ename": "SyntaxError",
     "evalue": "invalid syntax (456613382.py, line 40)",
     "output_type": "error",
     "traceback": [
      "\u001b[0;36m  Cell \u001b[0;32mIn[28], line 40\u001b[0;36m\u001b[0m\n\u001b[0;31m    getSuggestion(bmi:float)\u001b[0m\n\u001b[0m                     ^\u001b[0m\n\u001b[0;31mSyntaxError\u001b[0m\u001b[0;31m:\u001b[0m invalid syntax\n"
     ]
    }
   ],
   "source": [
    "def getSuggestion(bmi:float) -> str:\n",
    "    try:\n",
    "        height = int(input('請輸入身高(120-250公分):'))\n",
    "        \n",
    "        if height >= 120:    \n",
    "            if height <= 250:\n",
    "                print(f'身高:{height:.0f}公分')\n",
    "                weight = int(input('請輸入體重(30-250公斤):'))\n",
    "\n",
    "                if weight >= 30:\n",
    "                    if weight<=250:\n",
    "                        print(f'體重:{weight:.0f}公斤')\n",
    "\n",
    "                        bmi = weight/(height/100)**2\n",
    "                        print(f'您的BMI是:{bmi:.2f}')\n",
    "\n",
    "                        if bmi<18.5:\n",
    "                            print('您的體重:體重過輕')\n",
    "                        elif bmi<24:\n",
    "                            print('您的體重:正常')\n",
    "                        elif bmi<27:\n",
    "                            print('您的體重:過重')\n",
    "                        elif bmi<30:\n",
    "                            print('您的體重:輕度肥胖')\n",
    "                        elif bmi<35:\n",
    "                            print('您的體重:中度肥胖')\n",
    "                        else:\n",
    "                            print('您的體重:重度肥胖')\n",
    "                    else:\n",
    "                        print('體重大於250公斤,不在範圍內,請重新輸入範圍內的體重')\n",
    "                else:\n",
    "                    print('體重小於30公斤,不在範圍內,請重新輸入範圍內的體重')\n",
    "            else:\n",
    "                print('身高大於250公分,不在範圍內,請重新輸入範圍內的身高')\n",
    "        else:\n",
    "            print('身高小於120公分,不在範圍內,請重新輸入範圍內的身高') \n",
    "    except:\n",
    "        print('輸入格式有錯誤,請重新輸入')\n",
    "\n",
    "getSuggestion(bmi:float)\n",
    "\n",
    "\n"
   ]
  },
  {
   "cell_type": "code",
   "execution_count": null,
   "metadata": {},
   "outputs": [],
   "source": [
    "def getSuggestion(bmi:float) -> str:\n",
    "    print(f'您的BMI值為:{bmi:.2f}')\n",
    "    if bmi<18.5:\n",
    "        print(f'範圍區間屬於過輕，多吃一點補充營養\\n')\n",
    "    elif bmi<24:\n",
    "        print(f'範圍區間屬於正常\\n')\n",
    "    elif bmi<27:\n",
    "        print(f'範圍區間屬於過重，注意飲食\\n')\n",
    "    elif bmi<30:\n",
    "        print(f'範圍區間屬於輕度肥胖，要多運動\\n')\n",
    "    elif bmi<35:\n",
    "        print(f'範圍區間屬於中度肥胖，該注意飲食外要多加運動\\n')\n",
    "    else:  \n",
    "        print(f'範圍區間屬於重度肥胖，請與醫師與健身教練聯絡諮詢\\n') \n",
    "import pyinputplus as pyip\n",
    "while(True):\n",
    "    print(\"----BMI計算程式開始----\\n\")\n",
    "    height=0\n",
    "    weight=0\n",
    "    try:\n",
    "        height:float=eval(input(\"請輸入您的身高 ( 120~250 公分)\"))\n",
    "    except:\n",
    "        print('錯誤訊息！請輸入數字')\n",
    "    else:\n",
    "        if height>=120 and height<=250:\n",
    "            print(f'您的身高為:{height:.2f}公分')\n",
    "            try:\n",
    "                weight:float=eval(input(\"請輸入您的體重 (  30~250 公斤)\"))\n",
    "            except:\n",
    "                print('錯誤訊息！請輸入數字')\n",
    "            else:\n",
    "                if weight>=30 and weight<=250:\n",
    "                    print(f'您的體重是:{weight:.2f}公斤')\n",
    "                    bmi=weight/((height/100)**2)\n",
    "                    getSuggestion(bmi)\n",
    "                else:\n",
    "                    print(f'您輸入{weight}公斤，超出輸入範圍30~250公斤，請重新輸入')\n",
    "        else:\n",
    "            print(f'您輸入{height}公分，超出輸入範圍120~250公分，請重新輸入')\n",
    "    menu_value = pyip.inputMenu([\"yes\",\"no\"],prompt=\"請問您還要繼續測量BMI嗎?\\n\",numbered=True)\n",
    "    if menu_value == 'no':\n",
    "        print(\"----BMI計算程式結束----\\n\")\n",
    "        break"
   ]
  },
  {
   "cell_type": "code",
   "execution_count": 27,
   "metadata": {},
   "outputs": [
    {
     "name": "stdout",
     "output_type": "stream",
     "text": [
      "身高大於250公分,不在範圍內,請重新輸入範圍內的身高\n"
     ]
    }
   ],
   "source": [
    "try:\n",
    "    height = int(input('請輸入身高(120-250公分):'))\n",
    "    \n",
    "    if height >= 120:    \n",
    "        if height <= 250:\n",
    "            print(f'身高:{height:.0f}公分')\n",
    "            weight = int(input('請輸入體重(30-250公斤):'))\n",
    "\n",
    "            if weight >= 30:\n",
    "                if weight<=250:\n",
    "                    print(f'體重:{weight:.0f}公斤')\n",
    "\n",
    "                    bmi = weight/(height/100)**2\n",
    "                    print(f'您的BMI是:{bmi:.2f}')\n",
    "\n",
    "                    if bmi<18.5:\n",
    "                        print('您的體重:體重過輕')\n",
    "                    elif bmi<24:\n",
    "                        print('您的體重:正常')\n",
    "                    elif bmi<27:\n",
    "                        print('您的體重:過重')\n",
    "                    elif bmi<30:\n",
    "                        print('您的體重:輕度肥胖')\n",
    "                    elif bmi<35:\n",
    "                        print('您的體重:中度肥胖')\n",
    "                    else:\n",
    "                        print('您的體重:重度肥胖')\n",
    "                else:\n",
    "                    print('體重大於250公斤,不在範圍內,請重新輸入範圍內的體重')\n",
    "            else:\n",
    "                print('體重小於30公斤,不在範圍內,請重新輸入範圍內的體重')\n",
    "        else:\n",
    "            print('身高大於250公分,不在範圍內,請重新輸入範圍內的身高')\n",
    "    else:\n",
    "        print('身高小於120公分,不在範圍內,請重新輸入範圍內的身高') \n",
    "except:\n",
    "    print('輸入格式有錯誤,請重新輸入')"
   ]
  }
 ],
 "metadata": {
  "kernelspec": {
   "display_name": "Python 3",
   "language": "python",
   "name": "python3"
  },
  "language_info": {
   "codemirror_mode": {
    "name": "ipython",
    "version": 3
   },
   "file_extension": ".py",
   "mimetype": "text/x-python",
   "name": "python",
   "nbconvert_exporter": "python",
   "pygments_lexer": "ipython3",
   "version": "3.10.13"
  }
 },
 "nbformat": 4,
 "nbformat_minor": 2
}
