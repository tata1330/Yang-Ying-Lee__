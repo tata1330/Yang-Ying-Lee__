{
 "cells": [
  {
   "cell_type": "code",
   "execution_count": 17,
   "metadata": {},
   "outputs": [
    {
     "name": "stdout",
     "output_type": "stream",
     "text": [
      "49087.384375\n"
     ]
    }
   ],
   "source": [
    "def circle_area(radius:float)->float:\n",
    "    radius = eval(input(\"請輸入身高體重\"))\n",
    "    area = 3.1415926 * radius ** 2\n",
    "    print(f\"{area}\")\n",
    "\n",
    "\n",
    "circle_area(3)\n",
    "\n"
   ]
  },
  {
   "cell_type": "code",
   "execution_count": 15,
   "metadata": {},
   "outputs": [
    {
     "name": "stdout",
     "output_type": "stream",
     "text": [
      "28.2743334\n"
     ]
    }
   ],
   "source": [
    "radius = eval(input(\"請輸入身高體重\"))\n",
    "area = 3.1415926 * radius ** 2\n",
    "print(f\"{area}\")"
   ]
  },
  {
   "cell_type": "code",
   "execution_count": 4,
   "metadata": {},
   "outputs": [
    {
     "data": {
      "text/plain": [
       "26590.4397664"
      ]
     },
     "execution_count": 4,
     "metadata": {},
     "output_type": "execute_result"
    }
   ],
   "source": [
    "circle_area(92)\n"
   ]
  }
 ],
 "metadata": {
  "kernelspec": {
   "display_name": "Python 3",
   "language": "python",
   "name": "python3"
  },
  "language_info": {
   "codemirror_mode": {
    "name": "ipython",
    "version": 3
   },
   "file_extension": ".py",
   "mimetype": "text/x-python",
   "name": "python",
   "nbconvert_exporter": "python",
   "pygments_lexer": "ipython3",
   "version": "3.10.13"
  }
 },
 "nbformat": 4,
 "nbformat_minor": 2
}
