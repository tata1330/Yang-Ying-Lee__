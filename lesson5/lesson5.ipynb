{
 "cells": [
  {
   "cell_type": "code",
   "execution_count": 1,
   "metadata": {},
   "outputs": [
    {
     "name": "stdout",
     "output_type": "stream",
     "text": [
      "輸入格式錯誤\n",
      "程式結束\n"
     ]
    }
   ],
   "source": [
    "try:\n",
    "    scores:float = eval(input(\"請輸入學生分數(最高100):\"))\n",
    "except:\n",
    "    print(\"輸入格式錯誤\")\n",
    "    \n",
    "else:\n",
    "    if scores <= 300 :\n",
    "        is_add:str = input(\"學生是否符合加分條件?(y/n):\")\n",
    "        if is_add == \"y\" :\n",
    "            scores *= 1.05  \n",
    "            if scores > 300 :\n",
    "                scores = 300\n",
    "        print(f\"學生總分為{scores:.0f}\")\n",
    "\n",
    "        \n",
    "    else:\n",
    "        print(\"學生分數不可以大於300\")\n",
    "\n",
    "print(\"程式結束\")\n"
   ]
  },
  {
   "cell_type": "code",
   "execution_count": 3,
   "metadata": {},
   "outputs": [
    {
     "name": "stdout",
     "output_type": "stream",
     "text": [
      "學生總分為269\n",
      "程式結束\n"
     ]
    }
   ],
   "source": [
    "try:\n",
    "    scores:float = eval(input(\"請輸入學生分數(最高100):\"))\n",
    "\n",
    "    if scores <= 300 :\n",
    "        is_add:str = input(\"學生是否符合加分條件?(y/n):\")\n",
    "        if is_add == \"y\" :\n",
    "            scores *= 1.05  \n",
    "            if scores > 300 :\n",
    "                scores = 300\n",
    "        print(f\"學生總分為{scores:.0f}\")\n",
    "    else:\n",
    "        print(\"學生分數不可以大於300\")\n",
    "except:\n",
    "    print(\"輸入格式錯誤\")\n",
    "        \n",
    "\n",
    "\n",
    "print(\"程式結束\")\n"
   ]
  }
 ],
 "metadata": {
  "kernelspec": {
   "display_name": "Python 3",
   "language": "python",
   "name": "python3"
  },
  "language_info": {
   "codemirror_mode": {
    "name": "ipython",
    "version": 3
   },
   "file_extension": ".py",
   "mimetype": "text/x-python",
   "name": "python",
   "nbconvert_exporter": "python",
   "pygments_lexer": "ipython3",
   "version": "3.10.13"
  }
 },
 "nbformat": 4,
 "nbformat_minor": 2
}
