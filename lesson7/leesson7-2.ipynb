{
 "cells": [
  {
   "cell_type": "code",
   "execution_count": 1,
   "metadata": {},
   "outputs": [
    {
     "data": {
      "text/plain": [
       "5050"
      ]
     },
     "execution_count": 1,
     "metadata": {},
     "output_type": "execute_result"
    }
   ],
   "source": [
    "total = 0\n",
    "i=1\n",
    "while(i<101):\n",
    "    total += i\n",
    "    i += 1\n",
    "total"
   ]
  },
  {
   "cell_type": "code",
   "execution_count": 5,
   "metadata": {},
   "outputs": [
    {
     "name": "stdout",
     "output_type": "stream",
     "text": [
      "請輸入第1個月份存入的存款:1000 元\n",
      "請輸入第2個月份存入的存款:2000 元\n",
      "請輸入第3個月份存入的存款:3000 元\n",
      "請輸入第4個月份存入的存款:4000 元\n",
      "請輸入第5個月份存入的存款:10000 元\n",
      "請輸入第6個月份存入的存款:700 元\n",
      "請輸入第7個月份存入的存款:5000 元\n",
      "請輸入第8個月份存入的存款:8000 元\n",
      "恭喜你，你已經存了8個月，共存了33700元\n"
     ]
    }
   ],
   "source": [
    "import pyinputplus as pyip\n",
    "\n",
    "deposite = 0\n",
    "count = 0\n",
    "while(deposite<30000):\n",
    "    count += 1\n",
    "    value = pyip.inputInt(f\"請輸入第{count}個月份的存款:\")\n",
    "    print(value,\"元\")\n",
    "    deposite += value\n",
    "print(f\"恭喜你，你已經存了{count}個月，共存了{deposite}元\")"
   ]
  }
 ],
 "metadata": {
  "kernelspec": {
   "display_name": "Python 3",
   "language": "python",
   "name": "python3"
  },
  "language_info": {
   "codemirror_mode": {
    "name": "ipython",
    "version": 3
   },
   "file_extension": ".py",
   "mimetype": "text/x-python",
   "name": "python",
   "nbconvert_exporter": "python",
   "pygments_lexer": "ipython3",
   "version": "3.10.13"
  }
 },
 "nbformat": 4,
 "nbformat_minor": 2
}
