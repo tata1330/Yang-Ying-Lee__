{
 "cells": [
  {
   "cell_type": "code",
   "execution_count": 10,
   "metadata": {},
   "outputs": [
    {
     "name": "stdout",
     "output_type": "stream",
     "text": [
      "您的體重是:61(公斤)\n",
      "您的身高是:159(公分)\n",
      "您的BMI:24.13\n"
     ]
    }
   ],
   "source": [
    "#BMI值計算公式:    BMI = 體重(公斤) / 身高2(公尺2)\n",
    "\n",
    "weight = eval(input(\"請輸入您的體重(公斤):\"))\n",
    "height = eval(input(\"請輸入您的身高(公分):\"))\n",
    "bmi = weight / (height / 100) ** 2\n",
    "print(\"您的體重是:\", weight,\"(公斤)\",sep='')\n",
    "print(\"您的身高是:\",height,\"(公分)\",sep='')\n",
    "print(\"您的BMI:\",round(bmi,ndigits=2),sep='')\n"
   ]
  },
  {
   "cell_type": "code",
   "execution_count": 15,
   "metadata": {},
   "outputs": [
    {
     "name": "stdout",
     "output_type": "stream",
     "text": [
      "您的體重是:41公斤\n",
      "您的身高是:150公分\n",
      "您的BMI:18.22\n"
     ]
    }
   ],
   "source": [
    "#BMI值計算公式:    BMI = 體重(公斤) / 身高2(公尺2)\n",
    "\n",
    "weight = eval(input(\"請輸入您的體重(公斤):\"))\n",
    "height = eval(input(\"請輸入您的身高(公分):\"))\n",
    "bmi = weight / (height / 100) ** 2\n",
    "print(f\"您的體重是:{weight}公斤\")\n",
    "print(f\"您的身高是:{height}公分\")\n",
    "print(f\"您的BMI:{round(bmi,ndigits=2)}\")"
   ]
  },
  {
   "cell_type": "code",
   "execution_count": 17,
   "metadata": {},
   "outputs": [
    {
     "name": "stdout",
     "output_type": "stream",
     "text": [
      "您的體重是:59公斤\n",
      "您的身高是:160公分\n",
      "您的BMI:23.05\n"
     ]
    }
   ],
   "source": [
    "#BMI值計算公式:    BMI = 體重(公斤) / 身高2(公尺2)\n",
    "\n",
    "weight = eval(input(\"請輸入您的體重(公斤):\"))\n",
    "height = eval(input(\"請輸入您的身高(公分):\"))\n",
    "bmi = weight / (height / 100) ** 2\n",
    "print(f\"您的體重是:{weight}公斤\")\n",
    "print(f\"您的身高是:{height}公分\")\n",
    "print(f\"您的BMI:{bmi:.2f}\")"
   ]
  },
  {
   "cell_type": "code",
   "execution_count": 18,
   "metadata": {},
   "outputs": [
    {
     "data": {
      "text/plain": [
       "1"
      ]
     },
     "execution_count": 18,
     "metadata": {},
     "output_type": "execute_result"
    }
   ],
   "source": [
    "7%3\n"
   ]
  },
  {
   "cell_type": "code",
   "execution_count": 9,
   "metadata": {},
   "outputs": [
    {
     "data": {
      "text/plain": [
       "24.13"
      ]
     },
     "execution_count": 9,
     "metadata": {},
     "output_type": "execute_result"
    }
   ],
   "source": [
    "round(24.128792373719392, ndigits=2)"
   ]
  },
  {
   "cell_type": "code",
   "execution_count": 2,
   "metadata": {},
   "outputs": [
    {
     "name": "stdout",
     "output_type": "stream",
     "text": [
      "梯形的上底3.2公分,下底7.8公分,高9公分\n",
      "梯形的面積:49.50平方公分\n"
     ]
    }
   ],
   "source": [
    "#梯形的面積(上底加下底乘以高除以2)\n",
    "up = eval(input(\"請輸入梯形的上底(公分):\"))\n",
    "down = eval(input(\"請輸入梯形的下底(公分):\"))\n",
    "height = eval(input(\"請輸入梯形的高(公分):\"))\n",
    "area = (up + down)* height / 2\n",
    "\n",
    "print(f\"梯形的上底{up}公分,下底{down}公分,高{height}公分\")\n",
    "print(f\"梯形的面積:{area:.2f}平方公分\")"
   ]
  },
  {
   "cell_type": "code",
   "execution_count": 6,
   "metadata": {},
   "outputs": [
    {
     "name": "stdout",
     "output_type": "stream",
     "text": [
      "梯形的上底2.999公分,下底3.888公分,高5.6公分\n",
      "梯形的面積19.28平方公分\n"
     ]
    }
   ],
   "source": [
    "up=eval(input(\"請輸入梯形的上底(公分)\"))\n",
    "down=eval(input(\"請輸入梯形的下底(公分)\"))\n",
    "high=eval(input(\"請輸入梯形的高(公分)\"))\n",
    "area=(up+down)*high/2\n",
    "print(f\"梯形的上底{up}公分,下底{down}公分,高{high}公分\")\n",
    "print(f\"梯形的面積{round(area,ndigits=2)}平方公分\")"
   ]
  }
 ],
 "metadata": {
  "kernelspec": {
   "display_name": "Python 3",
   "language": "python",
   "name": "python3"
  },
  "language_info": {
   "codemirror_mode": {
    "name": "ipython",
    "version": 3
   },
   "file_extension": ".py",
   "mimetype": "text/x-python",
   "name": "python",
   "nbconvert_exporter": "python",
   "pygments_lexer": "ipython3",
   "version": "3.10.13"
  }
 },
 "nbformat": 4,
 "nbformat_minor": 2
}
