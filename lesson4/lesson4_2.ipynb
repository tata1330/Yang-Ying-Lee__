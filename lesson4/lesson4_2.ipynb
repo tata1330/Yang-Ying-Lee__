{
 "cells": [
  {
   "cell_type": "code",
   "execution_count": 3,
   "metadata": {},
   "outputs": [
    {
     "data": {
      "text/plain": [
       "60"
      ]
     },
     "execution_count": 3,
     "metadata": {},
     "output_type": "execute_result"
    }
   ],
   "source": [
    "n = 5\n",
    "n *= 10\n",
    "n += 10\n",
    "n"
   ]
  },
  {
   "cell_type": "code",
   "execution_count": 4,
   "metadata": {},
   "outputs": [
    {
     "name": "stdout",
     "output_type": "stream",
     "text": [
      "三數總共加起來有12.8\n"
     ]
    }
   ],
   "source": [
    "total = 0\n",
    "value = eval(input(\"請輸入第一個數\"))\n",
    "total += value\n",
    "\n",
    "value = eval(input(\"請輸入第二個數\"))\n",
    "total += value\n",
    "\n",
    "value = eval(input(\"請輸入第三個數\"))\n",
    "total += value\n",
    "\n",
    "print(f\"三數總共加起來有{total}\")"
   ]
  }
 ],
 "metadata": {
  "kernelspec": {
   "display_name": "Python 3",
   "language": "python",
   "name": "python3"
  },
  "language_info": {
   "codemirror_mode": {
    "name": "ipython",
    "version": 3
   },
   "file_extension": ".py",
   "mimetype": "text/x-python",
   "name": "python",
   "nbconvert_exporter": "python",
   "pygments_lexer": "ipython3",
   "version": "3.10.13"
  }
 },
 "nbformat": 4,
 "nbformat_minor": 2
}
